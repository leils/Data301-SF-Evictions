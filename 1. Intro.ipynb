{
 "cells": [
  {
   "cell_type": "markdown",
   "metadata": {},
   "source": [
    "# Evictions: Trends in San Francisco\n",
    "\n",
    "*Please note: Included in these notebooks is data from the SFPD on incidents in the Mission from 2003. The SFPD data did not end up suiting the models I wanted to create, nor provided insight into evictions. Thus, there are explorations of the data, and an unusable model that I have created from it. These are not included in the presentation, and the commentary in the following notebooks reflects this. *\n",
    "\n",
    "---\n",
    "## Abstract\n",
    "\n",
    "As a growing and changing city, San Francisco sees a high turnover for renting residents. Common knowledge states that the city is going through a state of gentrification, displacing residents more quickly as the city becomes attractive to more wealthy candidates. \n",
    "Is there any way that we can see this change? \n",
    "Can we predict number of evictions over time?\n",
    "\n",
    "---\n",
    "\n",
    "## Data Sets Overview\n",
    "### Evictions in San Francisco\n",
    "All of the eviction notices listed in the city of San Francisco from 1997 to 2017. \n",
    "Relevant data listed:\n",
    "\n",
    "- Date the eviction notice was filed\n",
    "- Neighborhood the eviction took place in\n",
    "\n",
    "### SFPD Incident Reports\n",
    "All of the incident reports from the SFPD, listed from 2003 to 2017. \n",
    "Relevant data listed: \n",
    "\n",
    "- Date of the incident\n",
    "- Neighborhood the incident took place in\n",
    "- Type of incident (ie. Suspicious persons, forced entry, etc.)\n",
    "\n",
    "---\n",
    "## Questions to Explore: \n",
    "- Have there been any recent trends in eviction rate? \n",
    "- Can we predict eviction rate in the coming years? \n",
    "\n",
    "---\n",
    "## Citations\n",
    "- Eviction Notices data from San Francisco: [Available Here](https://data.sfgov.org/Housing-and-Buildings/Eviction-Notices/5cei-gny5) published by the Rent Abitration Board\n",
    "- SFPD Incidents data from San Francisco: [Available Here](https://data.sfgov.org/Public-Safety/SFPD-Incidents-from-1-January-2003/tmnf-yvry) published by the San Francisco Police Department"
   ]
  },
  {
   "cell_type": "code",
   "execution_count": null,
   "metadata": {
    "collapsed": true
   },
   "outputs": [],
   "source": []
  }
 ],
 "metadata": {
  "kernelspec": {
   "display_name": "Python 3",
   "language": "python",
   "name": "python3"
  },
  "language_info": {
   "codemirror_mode": {
    "name": "ipython",
    "version": 3
   },
   "file_extension": ".py",
   "mimetype": "text/x-python",
   "name": "python",
   "nbconvert_exporter": "python",
   "pygments_lexer": "ipython3",
   "version": "3.5.2"
  }
 },
 "nbformat": 4,
 "nbformat_minor": 2
}
